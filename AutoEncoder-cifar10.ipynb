{
 "cells": [
  {
   "cell_type": "code",
   "execution_count": 1,
   "metadata": {
    "collapsed": true
   },
   "outputs": [],
   "source": [
    "import csv\n",
    "import itertools\n",
    "import matplotlib.pyplot as plt\n",
    "import numpy as np\n",
    "import os\n",
    "import pandas\n",
    "import scipy\n",
    "import sklearn\n",
    "import shutil\n",
    "import tensorflow as tf\n",
    "\n",
    "from pandas import DataFrame\n",
    "from pandas.tools.plotting import scatter_matrix\n",
    "#from scipy.spatial.distance import mahalanobis # Not vectorized and terribly slow!\n",
    "from six.moves import xrange  # pylint: disable=redefined-builtin\n",
    "from sklearn import mixture\n",
    "from sklearn.decomposition import PCA, KernelPCA\n",
    "from sklearn.metrics import confusion_matrix\n",
    "from sklearn.metrics import silhouette_samples\n",
    "from tensorflow.examples.tutorials.mnist import input_data\n",
    "\n",
    "pj = os.path.join\n",
    "\n",
    "%matplotlib inline"
   ]
  },
  {
   "cell_type": "code",
   "execution_count": 2,
   "metadata": {
    "collapsed": true
   },
   "outputs": [],
   "source": [
    "if os.name == \"nt\":\n",
    "    LOG_DIR = \"tf_graphs/cifar10_2\"\n",
    "    DATA_DIR = \"J:/MLDataSets/Cifar10/cifar-10-batches-bin\"\n",
    "else:\n",
    "    raise RuntimeError(\"Don't have linux paths atm\")\n",
    "\n",
    "file_ct = 0"
   ]
  },
  {
   "cell_type": "code",
   "execution_count": 3,
   "metadata": {
    "collapsed": true
   },
   "outputs": [],
   "source": [
    "g_image_size = 32\n",
    "g_num_chans = 3\n",
    "g_color_list = ['r', 'g', 'b', 'c', 'm', 'y', 'k', 'r', 'g', 'b']\n",
    "g_class_names = ['airplane',\n",
    " 'automobile',\n",
    " 'bird',\n",
    " 'cat',\n",
    " 'deer',\n",
    " 'dog',\n",
    " 'frog',\n",
    " 'horse',\n",
    " 'ship',\n",
    " 'truck']\n",
    "\n",
    "# Global constants describing the CIFAR-10 data set.\n",
    "NUM_CLASSES = 10\n",
    "NUM_EXAMPLES_PER_EPOCH_FOR_TRAIN = 50000\n",
    "NUM_EXAMPLES_PER_EPOCH_FOR_EVAL = 10000"
   ]
  },
  {
   "cell_type": "code",
   "execution_count": null,
   "metadata": {
    "collapsed": false
   },
   "outputs": [],
   "source": []
  },
  {
   "cell_type": "code",
   "execution_count": 4,
   "metadata": {
    "collapsed": false
   },
   "outputs": [
    {
     "name": "stderr",
     "output_type": "stream",
     "text": [
      "Using TensorFlow backend.\n"
     ]
    }
   ],
   "source": [
    "import keras\n",
    "from keras.datasets import cifar10\n",
    "(x_train, y_train), (x_test, y_test) = cifar10.load_data()\n",
    "x_train = np.array(x_train, dtype=float) / 256.\n",
    "x_test = np.array(x_test, dtype=float) / 256."
   ]
  },
  {
   "cell_type": "code",
   "execution_count": 5,
   "metadata": {
    "collapsed": false
   },
   "outputs": [
    {
     "data": {
      "text/plain": [
       "array([1], dtype=uint8)"
      ]
     },
     "execution_count": 5,
     "metadata": {},
     "output_type": "execute_result"
    }
   ],
   "source": [
    "y_train[5]"
   ]
  },
  {
   "cell_type": "code",
   "execution_count": 6,
   "metadata": {
    "collapsed": true
   },
   "outputs": [],
   "source": [
    "conf = {}\n",
    "conf[\"batch_size\"] = 512\n",
    "conf[\"fc_bottleneck\"] = False\n",
    "conf[\"use_tutorial\"] = False\n",
    "conf[\"do_classify\"] = True\n",
    "\n",
    "conf[\"regularize\"] = False\n",
    "conf[\"num_epochs\"] = 1500\n",
    "conf[\"lambda\"] = 0.1\n",
    "conf[\"lr\"] = 0.001\n",
    "conf[\"momentum\"] = 0.9"
   ]
  },
  {
   "cell_type": "code",
   "execution_count": 7,
   "metadata": {
    "collapsed": false
   },
   "outputs": [
    {
     "name": "stdout",
     "output_type": "stream",
     "text": [
      "Number of samples: 32\n",
      "Filt size 1: 3\n",
      "Filt size 2: 3\n",
      "Filt size 3: 3\n"
     ]
    }
   ],
   "source": [
    "conf[\"numh\"] = 8\n",
    "conf[\"num_filts1\"] = 128\n",
    "conf[\"num_filts2\"] = 64\n",
    "conf[\"num_filts3\"] = 32\n",
    "conf[\"stride\"] = 2\n",
    "conf[\"pool_size\"] = 2\n",
    "\n",
    "#The size of the filters, *not* the size of the convolution kernel\n",
    "conf[\"filt_size1\"] = 3\n",
    "conf[\"filt_size2\"] = 3\n",
    "conf[\"filt_size3\"] = 3\n",
    "\n",
    "conf[\"upsamp_sz1\"] = 7\n",
    "conf[\"upsamp_sz2\"] = 14\n",
    "conf[\"upsamp_sz3\"] = g_image_size\n",
    "\n",
    "print(\"Number of samples: \" + str(g_image_size))\n",
    "print(\"Filt size 1: \" + str(conf[\"filt_size1\"]))\n",
    "print(\"Filt size 2: \" + str(conf[\"filt_size2\"]))\n",
    "print(\"Filt size 3: \" + str(conf[\"filt_size3\"]))"
   ]
  },
  {
   "cell_type": "code",
   "execution_count": 8,
   "metadata": {
    "collapsed": true
   },
   "outputs": [],
   "source": [
    "tf.reset_default_graph()"
   ]
  },
  {
   "cell_type": "code",
   "execution_count": 9,
   "metadata": {
    "collapsed": true
   },
   "outputs": [],
   "source": [
    "x = tf.placeholder(tf.float32, shape=(None, g_image_size, g_image_size, g_num_chans), name=\"x\")"
   ]
  },
  {
   "cell_type": "code",
   "execution_count": 10,
   "metadata": {
    "collapsed": true
   },
   "outputs": [],
   "source": [
    "def make_conv_layer(t_in, filt_sz, stride, pool_sz, num_filts, name):\n",
    "    assert(len(t_in.shape)==4)\n",
    "    with tf.name_scope(name):\n",
    "        filt_shape = [filt_sz, filt_sz, int(t_in.shape[3]), num_filts]\n",
    "        W = tf.get_variable(name+\"_W\", filt_shape, initializer=tf.contrib.layers.xavier_initializer())\n",
    "        #tf.layers.conv2d uses the glorot_uniform_initializer\n",
    "        \n",
    "        b = tf.get_variable(name+\"_b\", [num_filts], initializer=tf.zeros_initializer())\n",
    "        y = tf.nn.conv2d(t_in,\n",
    "                         W,\n",
    "                         [1, 1, 1, 1],\n",
    "                         padding=\"SAME\") + b\n",
    "        mp = tf.layers.max_pooling2d(y,\n",
    "                                    pool_sz,\n",
    "                                    strides=stride,\n",
    "                                    padding=\"SAME\",\n",
    "                                    name=name+\"_mp\")\n",
    "        act = tf.nn.relu(mp, name=name+\"_relu\")\n",
    "\n",
    "        tf.summary.histogram(act.name, act)\n",
    "        print(\"act: \", act.shape)\n",
    "        \n",
    "        return act   "
   ]
  },
  {
   "cell_type": "code",
   "execution_count": 11,
   "metadata": {
    "collapsed": true
   },
   "outputs": [],
   "source": [
    "def make_deconv_layer(t_in, upsamp_sz, num_filts, name, use_relu=True):\n",
    "    assert(len(t_in.shape)==4)\n",
    "    with tf.name_scope(name):\n",
    "        upsample = tf.image.resize_nearest_neighbor(t_in, (upsamp_sz, upsamp_sz))\n",
    "        \n",
    "        filt_shape = [int(t_in.shape[1]), int(t_in.shape[2]), int(t_in.shape[3]), num_filts]\n",
    "        W = tf.get_variable(name+\"_W\", filt_shape, initializer=tf.contrib.layers.xavier_initializer())        \n",
    "        b = tf.get_variable(name+\"_b\", [num_filts], initializer=tf.zeros_initializer())\n",
    "    \n",
    "        deconv = tf.nn.conv2d(upsample, \n",
    "                              W, \n",
    "                              [1, 1, 1, 1],\n",
    "                              \"SAME\") + b\n",
    "        print(\"deconv: \", deconv.shape)\n",
    "\n",
    "        if use_relu:\n",
    "            act = tf.nn.relu(deconv, name=name+\"_relu\")\n",
    "        else:\n",
    "            act = deconv\n",
    "            \n",
    "        tf.summary.histogram(act.name, act)\n",
    "        print(act.shape)\n",
    "        \n",
    "        return act"
   ]
  },
  {
   "cell_type": "code",
   "execution_count": 12,
   "metadata": {
    "collapsed": true
   },
   "outputs": [],
   "source": [
    "def make_fc_layer(t_in, fan_out, name):\n",
    "    assert(len(t_in.shape)==2)\n",
    "    with tf.name_scope(name):\n",
    "        W = tf.Variable(tf.random_normal([int(t_in.shape[1]), fan_out], stddev=1), name=name+\"_W\")\n",
    "        b = tf.Variable(tf.random_normal([fan_out], stddev=1), name=name+\"_b\")\n",
    "        y = tf.matmul(t_in, W) + b\n",
    "        act = tf.nn.sigmoid(y, name=name+\"_sigmoid\")\n",
    "        tf.summary.histogram(act.name, act)\n",
    "        return act"
   ]
  },
  {
   "cell_type": "code",
   "execution_count": 13,
   "metadata": {
    "collapsed": true
   },
   "outputs": [],
   "source": [
    "def plot_confusion_matrix(cls_pred):\n",
    "    # Get the confusion matrix using sklearn.\n",
    "    cm = confusion_matrix(y_true=target,  # True class for test-set.\n",
    "                          y_pred=cls_pred)  # Predicted class.\n",
    "\n",
    "    # Print the confusion matrix as text.\n",
    "    for i in range(num_classes):\n",
    "        # Append the class-name to each line.\n",
    "        class_name = \"({}) {}\".format(i, class_names[i])\n",
    "        print(cm[i, :], class_name)\n",
    "\n",
    "    # Print the class-numbers for easy reference.\n",
    "    class_numbers = [\" ({0})\".format(i) for i in range(num_classes)]\n",
    "    print(\"\".join(class_numbers))"
   ]
  },
  {
   "cell_type": "code",
   "execution_count": 14,
   "metadata": {
    "collapsed": false
   },
   "outputs": [
    {
     "name": "stdout",
     "output_type": "stream",
     "text": [
      "INFO:tensorflow:Summary name conv1/conv1_relu:0 is illegal; using conv1/conv1_relu_0 instead.\n",
      "act:  (?, 16, 16, 128)\n",
      "INFO:tensorflow:Summary name conv2/conv2_relu:0 is illegal; using conv2/conv2_relu_0 instead.\n",
      "act:  (?, 8, 8, 64)\n",
      "INFO:tensorflow:Summary name conv3/conv3_relu:0 is illegal; using conv3/conv3_relu_0 instead.\n",
      "act:  (?, 4, 4, 32)\n"
     ]
    }
   ],
   "source": [
    "conv1 = make_conv_layer(x, conf[\"filt_size1\"], conf[\"stride\"], conf[\"pool_size\"], conf[\"num_filts1\"], \"conv1\")\n",
    "conv2 = make_conv_layer(conv1, conf[\"filt_size2\"], conf[\"stride\"], conf[\"pool_size\"], conf[\"num_filts2\"], \"conv2\")\n",
    "conv3 = make_conv_layer(conv2, conf[\"filt_size3\"], conf[\"stride\"], conf[\"pool_size\"], conf[\"num_filts3\"], \"conv3\")"
   ]
  },
  {
   "cell_type": "code",
   "execution_count": 15,
   "metadata": {
    "collapsed": false
   },
   "outputs": [
    {
     "name": "stdout",
     "output_type": "stream",
     "text": [
      "INFO:tensorflow:Summary name fc1/fc1_sigmoid:0 is illegal; using fc1/fc1_sigmoid_0 instead.\n",
      "INFO:tensorflow:Summary name fc2/fc2_sigmoid:0 is illegal; using fc2/fc2_sigmoid_0 instead.\n"
     ]
    }
   ],
   "source": [
    "if conf[\"do_classify\"]:\n",
    "    num_flat = int(conv3.shape[1]) * int(conv3.shape[2]) * int(conv3.shape[3])\n",
    "    fc1 = make_fc_layer( tf.reshape(conv3, [-1, num_flat]), 64, \"fc1\")\n",
    "    fc2 = make_fc_layer( fc1, 32, \"fc2\")\n",
    "else:\n",
    "    if conf[\"fc_bottleneck\"]:\n",
    "        fc_start0 = make_conv_layer(conv3, 2, 2, 2, conf[\"num_filts3\"], \"fc_start0\")\n",
    "        fc_start = tf.squeeze( make_conv_layer(fc_start0, 2, 2, 2, conf[\"num_filts3\"], \"conv_bottle\"), [1, 2])\n",
    "\n",
    "        hc = make_fc_layer(fc_start, conf[\"numh\"], \"hc\")\n",
    "        deconv_start0 = make_deconv_layer(tf.reshape(hc,[-1, 1, 1, int(hc.shape[1])]), 2, conf[\"num_filts3\"], \"deconv_start0\")\n",
    "        deconv_start = make_deconv_layer(deconv_start0, 2, conf[\"num_filts3\"], \"deconv_bottle\")\n",
    "    else:\n",
    "        deconv_start = conv3"
   ]
  },
  {
   "cell_type": "code",
   "execution_count": 16,
   "metadata": {
    "collapsed": false
   },
   "outputs": [
    {
     "name": "stdout",
     "output_type": "stream",
     "text": [
      "INFO:tensorflow:Summary name out_class/out_class_sigmoid:0 is illegal; using out_class/out_class_sigmoid_0 instead.\n"
     ]
    }
   ],
   "source": [
    "if conf[\"do_classify\"]:\n",
    "    y = tf.placeholder(tf.int32, shape=(None), name=\"y\")\n",
    "    out = tf.nn.softmax( make_fc_layer(fc2, 10, \"out_class\") )\n",
    "    \n",
    "    target = tf.squeeze( tf.one_hot(y, 10) )\n",
    "else:\n",
    "    target = x"
   ]
  },
  {
   "cell_type": "code",
   "execution_count": 17,
   "metadata": {
    "collapsed": false,
    "scrolled": true
   },
   "outputs": [],
   "source": [
    "if not conf[\"do_classify\"]:\n",
    "    deconv1 = make_deconv_layer(deconv_start, conf[\"upsamp_sz1\"], conf[\"num_filts3\"], \"deconv1\")\n",
    "    deconv2 = make_deconv_layer(deconv1, conf[\"upsamp_sz2\"], conf[\"num_filts2\"], \"deconv2\")\n",
    "    deconv3 = make_deconv_layer(deconv2, conf[\"upsamp_sz3\"], conf[\"num_filts1\"], \"deconv3\")"
   ]
  },
  {
   "cell_type": "code",
   "execution_count": 18,
   "metadata": {
    "collapsed": false
   },
   "outputs": [],
   "source": [
    "if not conf[\"do_classify\"]:\n",
    "    out = tf.layers.conv2d(deconv3, \n",
    "                           g_num_chans, \n",
    "                           (conf[\"filt_size1\"], conf[\"filt_size1\"]),\n",
    "                           padding='same',\n",
    "                           activation=None)\n",
    "    print(\"out: \", out.shape)\n",
    "    \n",
    "    decoded = tf.nn.sigmoid(out, name='decoded')"
   ]
  },
  {
   "cell_type": "code",
   "execution_count": 19,
   "metadata": {
    "collapsed": false
   },
   "outputs": [],
   "source": [
    "with tf.name_scope(\"conv_mse\"):\n",
    "    if conf[\"do_classify\"]:\n",
    "        loss = tf.nn.sigmoid_cross_entropy_with_logits(labels=target, logits=out)\n",
    "        cost = tf.reduce_mean(loss)\n",
    "        \n",
    "        pick = tf.cast( tf.argmax(out, axis=1), tf.int32 )\n",
    "        accuracy = tf.reduce_mean( tf.cast(tf.equal(pick, y), tf.float32), name=\"accuracy\" )\n",
    "    else:\n",
    "        sq_error = tf.reduce_mean(np.square(out - target), axis=1)\n",
    "        cost = tf.reduce_mean( sq_error, name=\"cost\" )\n",
    "        accuracy = None\n",
    "\n",
    "    tf.summary.scalar(\"cost\", cost)\n",
    "    tf.summary.scalar(\"accuracy\", accuracy)\n",
    "\n",
    "        \n",
    "with tf.name_scope(\"conv_opt\"):\n",
    "    optimizer = tf.train.AdamOptimizer(learning_rate=conf[\"lr\"])\n",
    "#    optimizer = tf.train.RMSPropOptimizer(learning_rate=conf[\"lr\"])\n",
    "#    optimizer = tf.train.MomentumOptimizer(learning_rate=conf[\"lr\"], momentum=conf[\"momentum\"])\n",
    "#    optimizer = tf.train.GradientDescentOptimizer(learning_rate=conf[\"lr\"])\n",
    "    training_op = optimizer.minimize(cost)\n"
   ]
  },
  {
   "cell_type": "code",
   "execution_count": 20,
   "metadata": {
    "collapsed": false
   },
   "outputs": [
    {
     "name": "stdout",
     "output_type": "stream",
     "text": [
      "Cost: 0.734247, accuracy: 0.122360\n",
      "Cost: 0.731629, accuracy: 0.103760\n",
      "Cost: 0.730690, accuracy: 0.102783\n"
     ]
    },
    {
     "ename": "KeyboardInterrupt",
     "evalue": "",
     "output_type": "error",
     "traceback": [
      "\u001b[0;31m---------------------------------------------------------------------------\u001b[0m",
      "\u001b[0;31mKeyboardInterrupt\u001b[0m                         Traceback (most recent call last)",
      "\u001b[0;32m<ipython-input-20-1c5986a5aba7>\u001b[0m in \u001b[0;36m<module>\u001b[0;34m()\u001b[0m\n\u001b[1;32m     17\u001b[0m             \u001b[0mbatch_x\u001b[0m \u001b[1;33m=\u001b[0m \u001b[0mx_train\u001b[0m\u001b[1;33m[\u001b[0m\u001b[1;33m(\u001b[0m\u001b[0mii\u001b[0m\u001b[1;33m*\u001b[0m\u001b[0mconf\u001b[0m\u001b[1;33m[\u001b[0m\u001b[1;34m\"batch_size\"\u001b[0m\u001b[1;33m]\u001b[0m\u001b[1;33m)\u001b[0m\u001b[1;33m:\u001b[0m\u001b[1;33m(\u001b[0m\u001b[1;33m(\u001b[0m\u001b[0mii\u001b[0m\u001b[1;33m+\u001b[0m\u001b[1;36m1\u001b[0m\u001b[1;33m)\u001b[0m\u001b[1;33m*\u001b[0m\u001b[0mconf\u001b[0m\u001b[1;33m[\u001b[0m\u001b[1;34m\"batch_size\"\u001b[0m\u001b[1;33m]\u001b[0m\u001b[1;33m)\u001b[0m\u001b[1;33m,\u001b[0m\u001b[1;33m:\u001b[0m\u001b[1;33m,\u001b[0m\u001b[1;33m:\u001b[0m\u001b[1;33m,\u001b[0m\u001b[1;33m:\u001b[0m\u001b[1;33m]\u001b[0m\u001b[1;33m\u001b[0m\u001b[0m\n\u001b[1;32m     18\u001b[0m             \u001b[0mbatch_y\u001b[0m \u001b[1;33m=\u001b[0m \u001b[0my_train\u001b[0m\u001b[1;33m[\u001b[0m\u001b[1;33m(\u001b[0m\u001b[0mii\u001b[0m\u001b[1;33m*\u001b[0m\u001b[0mconf\u001b[0m\u001b[1;33m[\u001b[0m\u001b[1;34m\"batch_size\"\u001b[0m\u001b[1;33m]\u001b[0m\u001b[1;33m)\u001b[0m\u001b[1;33m:\u001b[0m\u001b[1;33m(\u001b[0m\u001b[1;33m(\u001b[0m\u001b[0mii\u001b[0m\u001b[1;33m+\u001b[0m\u001b[1;36m1\u001b[0m\u001b[1;33m)\u001b[0m\u001b[1;33m*\u001b[0m\u001b[0mconf\u001b[0m\u001b[1;33m[\u001b[0m\u001b[1;34m\"batch_size\"\u001b[0m\u001b[1;33m]\u001b[0m\u001b[1;33m)\u001b[0m\u001b[1;33m]\u001b[0m\u001b[1;33m\u001b[0m\u001b[0m\n\u001b[0;32m---> 19\u001b[0;31m             \u001b[0msummary\u001b[0m\u001b[1;33m,\u001b[0m\u001b[0m_\u001b[0m \u001b[1;33m=\u001b[0m \u001b[0msess\u001b[0m\u001b[1;33m.\u001b[0m\u001b[0mrun\u001b[0m\u001b[1;33m(\u001b[0m\u001b[1;33m[\u001b[0m\u001b[0mmerged\u001b[0m\u001b[1;33m,\u001b[0m \u001b[0mtraining_op\u001b[0m\u001b[1;33m]\u001b[0m\u001b[1;33m,\u001b[0m \u001b[0mfeed_dict\u001b[0m\u001b[1;33m=\u001b[0m\u001b[1;33m{\u001b[0m\u001b[0mx\u001b[0m \u001b[1;33m:\u001b[0m \u001b[0mbatch_x\u001b[0m\u001b[1;33m,\u001b[0m \u001b[0my\u001b[0m \u001b[1;33m:\u001b[0m \u001b[0mbatch_y\u001b[0m\u001b[1;33m}\u001b[0m\u001b[1;33m)\u001b[0m\u001b[1;33m\u001b[0m\u001b[0m\n\u001b[0m\u001b[1;32m     20\u001b[0m             \u001b[0mtrain_writer\u001b[0m\u001b[1;33m.\u001b[0m\u001b[0madd_summary\u001b[0m\u001b[1;33m(\u001b[0m\u001b[0msummary\u001b[0m\u001b[1;33m,\u001b[0m \u001b[0mi\u001b[0m\u001b[1;33m*\u001b[0m\u001b[1;33m(\u001b[0m\u001b[0mNUM_EXAMPLES_PER_EPOCH_FOR_TRAIN\u001b[0m\u001b[1;33m//\u001b[0m\u001b[0mconf\u001b[0m\u001b[1;33m[\u001b[0m\u001b[1;34m\"batch_size\"\u001b[0m\u001b[1;33m]\u001b[0m\u001b[1;33m)\u001b[0m\u001b[1;33m+\u001b[0m\u001b[0mii\u001b[0m\u001b[1;33m)\u001b[0m\u001b[1;33m\u001b[0m\u001b[0m\n\u001b[1;32m     21\u001b[0m             \u001b[1;32mif\u001b[0m \u001b[0mii\u001b[0m\u001b[1;33m%\u001b[0m\u001b[1;36m100\u001b[0m \u001b[1;33m==\u001b[0m \u001b[1;36m0\u001b[0m\u001b[1;33m:\u001b[0m\u001b[1;33m\u001b[0m\u001b[0m\n",
      "\u001b[0;32mC:\\Program Files\\Anaconda3\\lib\\site-packages\\tensorflow\\python\\client\\session.py\u001b[0m in \u001b[0;36mrun\u001b[0;34m(self, fetches, feed_dict, options, run_metadata)\u001b[0m\n\u001b[1;32m    787\u001b[0m     \u001b[1;32mtry\u001b[0m\u001b[1;33m:\u001b[0m\u001b[1;33m\u001b[0m\u001b[0m\n\u001b[1;32m    788\u001b[0m       result = self._run(None, fetches, feed_dict, options_ptr,\n\u001b[0;32m--> 789\u001b[0;31m                          run_metadata_ptr)\n\u001b[0m\u001b[1;32m    790\u001b[0m       \u001b[1;32mif\u001b[0m \u001b[0mrun_metadata\u001b[0m\u001b[1;33m:\u001b[0m\u001b[1;33m\u001b[0m\u001b[0m\n\u001b[1;32m    791\u001b[0m         \u001b[0mproto_data\u001b[0m \u001b[1;33m=\u001b[0m \u001b[0mtf_session\u001b[0m\u001b[1;33m.\u001b[0m\u001b[0mTF_GetBuffer\u001b[0m\u001b[1;33m(\u001b[0m\u001b[0mrun_metadata_ptr\u001b[0m\u001b[1;33m)\u001b[0m\u001b[1;33m\u001b[0m\u001b[0m\n",
      "\u001b[0;32mC:\\Program Files\\Anaconda3\\lib\\site-packages\\tensorflow\\python\\client\\session.py\u001b[0m in \u001b[0;36m_run\u001b[0;34m(self, handle, fetches, feed_dict, options, run_metadata)\u001b[0m\n\u001b[1;32m    995\u001b[0m     \u001b[1;32mif\u001b[0m \u001b[0mfinal_fetches\u001b[0m \u001b[1;32mor\u001b[0m \u001b[0mfinal_targets\u001b[0m\u001b[1;33m:\u001b[0m\u001b[1;33m\u001b[0m\u001b[0m\n\u001b[1;32m    996\u001b[0m       results = self._do_run(handle, final_targets, final_fetches,\n\u001b[0;32m--> 997\u001b[0;31m                              feed_dict_string, options, run_metadata)\n\u001b[0m\u001b[1;32m    998\u001b[0m     \u001b[1;32melse\u001b[0m\u001b[1;33m:\u001b[0m\u001b[1;33m\u001b[0m\u001b[0m\n\u001b[1;32m    999\u001b[0m       \u001b[0mresults\u001b[0m \u001b[1;33m=\u001b[0m \u001b[1;33m[\u001b[0m\u001b[1;33m]\u001b[0m\u001b[1;33m\u001b[0m\u001b[0m\n",
      "\u001b[0;32mC:\\Program Files\\Anaconda3\\lib\\site-packages\\tensorflow\\python\\client\\session.py\u001b[0m in \u001b[0;36m_do_run\u001b[0;34m(self, handle, target_list, fetch_list, feed_dict, options, run_metadata)\u001b[0m\n\u001b[1;32m   1130\u001b[0m     \u001b[1;32mif\u001b[0m \u001b[0mhandle\u001b[0m \u001b[1;32mis\u001b[0m \u001b[1;32mNone\u001b[0m\u001b[1;33m:\u001b[0m\u001b[1;33m\u001b[0m\u001b[0m\n\u001b[1;32m   1131\u001b[0m       return self._do_call(_run_fn, self._session, feed_dict, fetch_list,\n\u001b[0;32m-> 1132\u001b[0;31m                            target_list, options, run_metadata)\n\u001b[0m\u001b[1;32m   1133\u001b[0m     \u001b[1;32melse\u001b[0m\u001b[1;33m:\u001b[0m\u001b[1;33m\u001b[0m\u001b[0m\n\u001b[1;32m   1134\u001b[0m       return self._do_call(_prun_fn, self._session, handle, feed_dict,\n",
      "\u001b[0;32mC:\\Program Files\\Anaconda3\\lib\\site-packages\\tensorflow\\python\\client\\session.py\u001b[0m in \u001b[0;36m_do_call\u001b[0;34m(self, fn, *args)\u001b[0m\n\u001b[1;32m   1137\u001b[0m   \u001b[1;32mdef\u001b[0m \u001b[0m_do_call\u001b[0m\u001b[1;33m(\u001b[0m\u001b[0mself\u001b[0m\u001b[1;33m,\u001b[0m \u001b[0mfn\u001b[0m\u001b[1;33m,\u001b[0m \u001b[1;33m*\u001b[0m\u001b[0margs\u001b[0m\u001b[1;33m)\u001b[0m\u001b[1;33m:\u001b[0m\u001b[1;33m\u001b[0m\u001b[0m\n\u001b[1;32m   1138\u001b[0m     \u001b[1;32mtry\u001b[0m\u001b[1;33m:\u001b[0m\u001b[1;33m\u001b[0m\u001b[0m\n\u001b[0;32m-> 1139\u001b[0;31m       \u001b[1;32mreturn\u001b[0m \u001b[0mfn\u001b[0m\u001b[1;33m(\u001b[0m\u001b[1;33m*\u001b[0m\u001b[0margs\u001b[0m\u001b[1;33m)\u001b[0m\u001b[1;33m\u001b[0m\u001b[0m\n\u001b[0m\u001b[1;32m   1140\u001b[0m     \u001b[1;32mexcept\u001b[0m \u001b[0merrors\u001b[0m\u001b[1;33m.\u001b[0m\u001b[0mOpError\u001b[0m \u001b[1;32mas\u001b[0m \u001b[0me\u001b[0m\u001b[1;33m:\u001b[0m\u001b[1;33m\u001b[0m\u001b[0m\n\u001b[1;32m   1141\u001b[0m       \u001b[0mmessage\u001b[0m \u001b[1;33m=\u001b[0m \u001b[0mcompat\u001b[0m\u001b[1;33m.\u001b[0m\u001b[0mas_text\u001b[0m\u001b[1;33m(\u001b[0m\u001b[0me\u001b[0m\u001b[1;33m.\u001b[0m\u001b[0mmessage\u001b[0m\u001b[1;33m)\u001b[0m\u001b[1;33m\u001b[0m\u001b[0m\n",
      "\u001b[0;32mC:\\Program Files\\Anaconda3\\lib\\site-packages\\tensorflow\\python\\client\\session.py\u001b[0m in \u001b[0;36m_run_fn\u001b[0;34m(session, feed_dict, fetch_list, target_list, options, run_metadata)\u001b[0m\n\u001b[1;32m   1119\u001b[0m         return tf_session.TF_Run(session, options,\n\u001b[1;32m   1120\u001b[0m                                  \u001b[0mfeed_dict\u001b[0m\u001b[1;33m,\u001b[0m \u001b[0mfetch_list\u001b[0m\u001b[1;33m,\u001b[0m \u001b[0mtarget_list\u001b[0m\u001b[1;33m,\u001b[0m\u001b[1;33m\u001b[0m\u001b[0m\n\u001b[0;32m-> 1121\u001b[0;31m                                  status, run_metadata)\n\u001b[0m\u001b[1;32m   1122\u001b[0m \u001b[1;33m\u001b[0m\u001b[0m\n\u001b[1;32m   1123\u001b[0m     \u001b[1;32mdef\u001b[0m \u001b[0m_prun_fn\u001b[0m\u001b[1;33m(\u001b[0m\u001b[0msession\u001b[0m\u001b[1;33m,\u001b[0m \u001b[0mhandle\u001b[0m\u001b[1;33m,\u001b[0m \u001b[0mfeed_dict\u001b[0m\u001b[1;33m,\u001b[0m \u001b[0mfetch_list\u001b[0m\u001b[1;33m)\u001b[0m\u001b[1;33m:\u001b[0m\u001b[1;33m\u001b[0m\u001b[0m\n",
      "\u001b[0;31mKeyboardInterrupt\u001b[0m: "
     ]
    }
   ],
   "source": [
    "conf[\"num_epochs\"] = 10\n",
    "with tf.device(\"/gpu:0\"):\n",
    "    config = tf.ConfigProto(allow_soft_placement = True)\n",
    "    config.gpu_options.allow_growth = True\n",
    "    sess = tf.Session(config=config)\n",
    "    sess.run(tf.global_variables_initializer())\n",
    "\n",
    "    tf.summary.scalar(\"cost\", cost)\n",
    "    merged = tf.summary.merge_all()\n",
    "    train_writer = tf.summary.FileWriter(LOG_DIR, sess.graph)\n",
    "\n",
    "    dummy = np.random.rand(100,28,28,3)\n",
    "    for i in range(conf[\"num_epochs\"]):\n",
    "        for ii in range(NUM_EXAMPLES_PER_EPOCH_FOR_TRAIN//conf[\"batch_size\"]):\n",
    "#            batch,labels = inputs(False, DATA_DIR, conf[\"batch_size\"])\n",
    "#            imgs = batch[0].reshape((-1, g_image_size, g_image_size, 3))\n",
    "            batch_x = x_train[(ii*conf[\"batch_size\"]):((ii+1)*conf[\"batch_size\"]),:,:,:]\n",
    "            batch_y = y_train[(ii*conf[\"batch_size\"]):((ii+1)*conf[\"batch_size\"])]\n",
    "            summary,_ = sess.run([merged, training_op], feed_dict={x : batch_x, y : batch_y})\n",
    "            train_writer.add_summary(summary, i*(NUM_EXAMPLES_PER_EPOCH_FOR_TRAIN//conf[\"batch_size\"])+ii)\n",
    "            if ii%100 == 0:\n",
    "                cost_ii = cost.eval(session=sess, feed_dict={x : batch_x, y : batch_y})\n",
    "                accuracy_ii = accuracy.eval(session=sess, feed_dict={x : batch_x, y : batch_y})\n",
    "                print(\"Cost: %f, accuracy: %f\" % (cost_ii, accuracy_ii))"
   ]
  },
  {
   "cell_type": "code",
   "execution_count": 314,
   "metadata": {
    "collapsed": false
   },
   "outputs": [
    {
     "name": "stdout",
     "output_type": "stream",
     "text": [
      "9 9\n"
     ]
    },
    {
     "ename": "NameError",
     "evalue": "name 'NUM_EXAMPLES_PER_EPOCH_FOR_TEST' is not defined",
     "output_type": "error",
     "traceback": [
      "\u001b[0;31m---------------------------------------------------------------------------\u001b[0m",
      "\u001b[0;31mNameError\u001b[0m                                 Traceback (most recent call last)",
      "\u001b[0;32m<ipython-input-314-4a3e4cb6b9ee>\u001b[0m in \u001b[0;36m<module>\u001b[0;34m()\u001b[0m\n\u001b[1;32m      6\u001b[0m \u001b[0mm\u001b[0m\u001b[1;33m==\u001b[0m\u001b[0mt\u001b[0m\u001b[1;33m\u001b[0m\u001b[0m\n\u001b[1;32m      7\u001b[0m \u001b[0mlen\u001b[0m\u001b[1;33m(\u001b[0m\u001b[0mx_test\u001b[0m\u001b[1;33m)\u001b[0m\u001b[1;33m\u001b[0m\u001b[0m\n\u001b[0;32m----> 8\u001b[0;31m \u001b[0mNUM_EXAMPLES_PER_EPOCH_FOR_TEST\u001b[0m\u001b[1;33m\u001b[0m\u001b[0m\n\u001b[0m",
      "\u001b[0;31mNameError\u001b[0m: name 'NUM_EXAMPLES_PER_EPOCH_FOR_TEST' is not defined"
     ]
    }
   ],
   "source": [
    "idx = 102\n",
    "out.eval(session=sess, feed_dict={x : np.reshape(x_train[idx,:,:,:], [-1,32,32,3]), y : y_train[idx]})\n",
    "m = tf.argmax(out, axis=1).eval(session=sess, feed_dict={x : np.reshape(x_train[idx,:,:,:], [-1,32,32,3]), y : y_train[idx]})\n",
    "t = y.eval(session=sess, feed_dict={x : np.reshape(x_train[idx,:,:,:], [-1,32,32,3]), y : y_train[idx]})\n",
    "print(m[0] ,t[0])\n",
    "m==t\n",
    "len(x_test)"
   ]
  },
  {
   "cell_type": "code",
   "execution_count": 333,
   "metadata": {
    "collapsed": false
   },
   "outputs": [
    {
     "name": "stdout",
     "output_type": "stream",
     "text": [
      "[655  29  37  29   9  19  11  15 124  38] (0) airplane, 0.6780538302277432%\n",
      "[ 40 713   2  19   2   1  11   7  51 125] (1) automobile, 0.7342945417095778%\n",
      "[110  13 371  68  96 128  94  37  31  21] (2) bird, 0.3828689370485036%\n",
      "[ 17  11  43 475  51 190  93  36  33  27] (3) cat, 0.48668032786885246%\n",
      "[ 42   6  55  84 506  48 108  95  26   4] (4) deer, 0.5195071868583162%\n",
      "[  7   6  45 287  37 467  23  67  20  13] (5) dog, 0.48045267489711935%\n",
      "[  6   9  23  96  45  18 757   9  11   7] (6) frog, 0.7716615698267074%\n",
      "[ 22   7  21  82  47  86  11 671   9  17] (7) horse, 0.6896197327852004%\n",
      "[ 86  41   3  23   1  10   9   7 766  24] (8) ship, 0.7896907216494845%\n",
      "[ 40 176   8  21   1   6  14  24  53 633] (9) truck, 0.6485655737704918%\n"
     ]
    }
   ],
   "source": [
    "if conf[\"do_classify\"]:\n",
    "    num_test = (len(x_test) // conf[\"batch_size\"]) * conf[\"batch_size\"]\n",
    "    y_true = -1 * np.ones((num_test))\n",
    "    y_pred = -1 * np.ones((num_test))\n",
    "    for i in range(len(x_test) // conf[\"batch_size\"]):\n",
    "        idx_start = int( i*conf[\"batch_size\"] )\n",
    "        idx_end = int( (i+1)*conf[\"batch_size\"] )\n",
    "        batch_x = x_test[idx_start:idx_end,:,:,:]\n",
    "        batch_y = y_test[idx_start:idx_end]\n",
    "        y_eval = y.eval(session=sess, feed_dict={x : batch_x, y : batch_y})\n",
    "        pick_eval = pick.eval(session=sess, feed_dict={x : batch_x, y : batch_y})\n",
    "        y_true[idx_start:idx_end] = y_eval.reshape((conf[\"batch_size\"]))\n",
    "        y_pred[idx_start:idx_end] = pick_eval\n",
    "        \n",
    "    cm = confusion_matrix(y_true=y_true,  # True class for test-set.\n",
    "                          y_pred=y_pred)  # Predicted class.\n",
    "    \n",
    "    for i in range(len(cm)):\n",
    "        # Append the class-name to each line.\n",
    "        acc_i = cm[i,i] / np.sum(cm[i,:])\n",
    "        class_name = \"({}) {}, {}%\".format(i, g_class_names[i], acc_i)\n",
    "        print(cm[i, :], class_name)"
   ]
  },
  {
   "cell_type": "code",
   "execution_count": 311,
   "metadata": {
    "collapsed": false
   },
   "outputs": [
    {
     "ename": "ValueError",
     "evalue": "total size of new array must be unchanged",
     "output_type": "error",
     "traceback": [
      "\u001b[0;31m---------------------------------------------------------------------------\u001b[0m",
      "\u001b[0;31mValueError\u001b[0m                                Traceback (most recent call last)",
      "\u001b[0;32m<ipython-input-311-1e4a8335410f>\u001b[0m in \u001b[0;36m<module>\u001b[0;34m()\u001b[0m\n\u001b[1;32m      6\u001b[0m     \u001b[1;32mfor\u001b[0m \u001b[0mimages\u001b[0m\u001b[1;33m,\u001b[0m \u001b[0mrow\u001b[0m \u001b[1;32min\u001b[0m \u001b[0mzip\u001b[0m\u001b[1;33m(\u001b[0m\u001b[1;33m[\u001b[0m\u001b[0min_imgs\u001b[0m\u001b[1;33m,\u001b[0m \u001b[0mreconstructed\u001b[0m\u001b[1;33m]\u001b[0m\u001b[1;33m,\u001b[0m \u001b[0maxes\u001b[0m\u001b[1;33m)\u001b[0m\u001b[1;33m:\u001b[0m\u001b[1;33m\u001b[0m\u001b[0m\n\u001b[1;32m      7\u001b[0m         \u001b[1;32mfor\u001b[0m \u001b[0mimg\u001b[0m\u001b[1;33m,\u001b[0m \u001b[0max\u001b[0m \u001b[1;32min\u001b[0m \u001b[0mzip\u001b[0m\u001b[1;33m(\u001b[0m\u001b[0mimages\u001b[0m\u001b[1;33m,\u001b[0m \u001b[0mrow\u001b[0m\u001b[1;33m)\u001b[0m\u001b[1;33m:\u001b[0m\u001b[1;33m\u001b[0m\u001b[0m\n\u001b[0;32m----> 8\u001b[0;31m             \u001b[0max\u001b[0m\u001b[1;33m.\u001b[0m\u001b[0mimshow\u001b[0m\u001b[1;33m(\u001b[0m\u001b[0mimg\u001b[0m\u001b[1;33m.\u001b[0m\u001b[0mreshape\u001b[0m\u001b[1;33m(\u001b[0m\u001b[1;33m(\u001b[0m\u001b[0mg_image_size\u001b[0m\u001b[1;33m,\u001b[0m \u001b[0mg_image_size\u001b[0m\u001b[1;33m,\u001b[0m \u001b[1;36m3\u001b[0m\u001b[1;33m)\u001b[0m\u001b[1;33m)\u001b[0m\u001b[1;33m)\u001b[0m\u001b[1;33m\u001b[0m\u001b[0m\n\u001b[0m\u001b[1;32m      9\u001b[0m             \u001b[0max\u001b[0m\u001b[1;33m.\u001b[0m\u001b[0mget_xaxis\u001b[0m\u001b[1;33m(\u001b[0m\u001b[1;33m)\u001b[0m\u001b[1;33m.\u001b[0m\u001b[0mset_visible\u001b[0m\u001b[1;33m(\u001b[0m\u001b[1;32mFalse\u001b[0m\u001b[1;33m)\u001b[0m\u001b[1;33m\u001b[0m\u001b[0m\n\u001b[1;32m     10\u001b[0m             \u001b[0max\u001b[0m\u001b[1;33m.\u001b[0m\u001b[0mget_yaxis\u001b[0m\u001b[1;33m(\u001b[0m\u001b[1;33m)\u001b[0m\u001b[1;33m.\u001b[0m\u001b[0mset_visible\u001b[0m\u001b[1;33m(\u001b[0m\u001b[1;32mFalse\u001b[0m\u001b[1;33m)\u001b[0m\u001b[1;33m\u001b[0m\u001b[0m\n",
      "\u001b[0;31mValueError\u001b[0m: total size of new array must be unchanged"
     ]
    },
    {
     "data": {
      "image/png": "[encoded data removed]",
      "text/plain": [
       "<matplotlib.figure.Figure at 0x24b98f10198>"
      ]
     },
     "metadata": {},
     "output_type": "display_data"
    }
   ],
   "source": [
    "for i in range(5):\n",
    "    fig, axes = plt.subplots(nrows=2, ncols=10, sharex=True, sharey=True, figsize=(20,4))\n",
    "    in_imgs = x_test[10*i:10*(i+1)]\n",
    "    reconstructed = out.eval(session=sess, feed_dict={x: in_imgs.reshape((10, g_image_size, g_image_size, 3))})\n",
    "\n",
    "    for images, row in zip([in_imgs, reconstructed], axes):\n",
    "        for img, ax in zip(images, row):\n",
    "            ax.imshow(img.reshape((g_image_size, g_image_size, 3)))\n",
    "            ax.get_xaxis().set_visible(False)\n",
    "            ax.get_yaxis().set_visible(False)\n",
    "\n",
    "\n",
    "    fig.tight_layout(pad=0.1)"
   ]
  },
  {
   "cell_type": "code",
   "execution_count": null,
   "metadata": {
    "collapsed": true
   },
   "outputs": [],
   "source": []
  }
 ],
 "metadata": {
  "kernelspec": {
   "display_name": "Python 3",
   "language": "python",
   "name": "python3"
  },
  "language_info": {
   "codemirror_mode": {
    "name": "ipython",
    "version": 3
   },
   "file_extension": ".py",
   "mimetype": "text/x-python",
   "name": "python",
   "nbconvert_exporter": "python",
   "pygments_lexer": "ipython3",
   "version": "3.6.0"
  }
 },
 "nbformat": 4,
 "nbformat_minor": 2
}
